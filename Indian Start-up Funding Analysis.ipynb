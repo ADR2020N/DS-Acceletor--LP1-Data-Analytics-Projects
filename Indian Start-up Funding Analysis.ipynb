{
 "cells": [
  {
   "cell_type": "markdown",
   "id": "c97c320d",
   "metadata": {},
   "source": [
    "# Project Title"
   ]
  },
  {
   "cell_type": "markdown",
   "id": "3e0fda03",
   "metadata": {},
   "source": [
    " INDIAN START-UP FUNDING ANALYSIS "
   ]
  },
  {
   "cell_type": "markdown",
   "id": "dfdd7781",
   "metadata": {},
   "source": [
    "# Description"
   ]
  },
  {
   "cell_type": "markdown",
   "id": "4c731010",
   "metadata": {},
   "source": [
    "This project aims to draw insights on funding received by Indian startups\n",
    "The aim of project is obtain a descriptive overview and a relationship pattern\n",
    "of funding and growth of newly launched startups."
   ]
  },
  {
   "cell_type": "markdown",
   "id": "b78f6a9e",
   "metadata": {},
   "source": [
    "#  Questions"
   ]
  },
  {
   "cell_type": "markdown",
   "id": "bcda5c14",
   "metadata": {},
   "source": [
    "1. Which company received the highest amount of funds?\n",
    "\n",
    "2. Which company received the lowest amount of funds ?\n",
    "\n",
    "3. Which Industry received the highest amount of funding?\n",
    "\n",
    "4. Which industry received the lowest amount of funding?\n",
    "\n",
    "5. Is there a correlation between company age and funds received?\n",
    "\n",
    "6. Which location recorded the highest amount of funding received?\n",
    "\n",
    "7. What is the average age of the start-ups?\n",
    "\n",
    "8. What is the average amount of funding received?\n",
    "\n",
    "9. How many companies were funded in each year?"
   ]
  },
  {
   "cell_type": "markdown",
   "id": "faa3a471",
   "metadata": {},
   "source": [
    "# Hypothesis"
   ]
  },
  {
   "cell_type": "markdown",
   "id": "70bef0bd",
   "metadata": {},
   "source": [
    "Null Hypothesis - The sector of a start-up affect the amount of funding received.\n",
    "\n",
    "Alternate Hypothesis - The sector of a start up does not affect the amount of funding received\n",
    "\n"
   ]
  }
 ],
 "metadata": {
  "kernelspec": {
   "display_name": "Python 3 (ipykernel)",
   "language": "python",
   "name": "python3"
  },
  "language_info": {
   "codemirror_mode": {
    "name": "ipython",
    "version": 3
   },
   "file_extension": ".py",
   "mimetype": "text/x-python",
   "name": "python",
   "nbconvert_exporter": "python",
   "pygments_lexer": "ipython3",
   "version": "3.10.7"
  }
 },
 "nbformat": 4,
 "nbformat_minor": 5
}
